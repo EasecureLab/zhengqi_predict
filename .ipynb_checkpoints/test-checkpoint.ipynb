{
 "cells": [
  {
   "cell_type": "code",
   "execution_count": null,
   "metadata": {},
   "outputs": [],
   "source": []
  },
  {
   "cell_type": "code",
   "execution_count": null,
   "metadata": {},
   "outputs": [],
   "source": [
    "# 读取数据\n",
    "train_data_file = \"./zhengqi_train.txt\"\n",
    "test_data_file  = \"./zhengqi_test.txt\"\n",
    "\n",
    "train_data = pd.read_csv(train_data_file,sep='\\t',encoding='utf-8')\n",
    "test_data  = pd.read_csv(test_data_file, sep='\\t',encoding='utf-8')"
   ]
  },
  {
   "cell_type": "code",
   "execution_count": null,
   "metadata": {},
   "outputs": [],
   "source": [
    "plt.figure(figsize=(10,5))\n",
    "ax = plt.subplot(1,2,1)\n",
    "sns.distplot(train_data['V0'],fit=stats.norm)\n",
    "\n",
    "ax = plt.subplot(1,2,2)\n",
    "res = stats.probplot(train_data['V0'],plot=plt)"
   ]
  }
 ],
 "metadata": {
  "celltoolbar": "幻灯片",
  "kernelspec": {
   "display_name": "Python 3",
   "language": "python",
   "name": "python3"
  },
  "language_info": {
   "codemirror_mode": {
    "name": "ipython",
    "version": 3
   },
   "file_extension": ".py",
   "mimetype": "text/x-python",
   "name": "python",
   "nbconvert_exporter": "python",
   "pygments_lexer": "ipython3",
   "version": "3.6.13"
  }
 },
 "nbformat": 4,
 "nbformat_minor": 4
}
